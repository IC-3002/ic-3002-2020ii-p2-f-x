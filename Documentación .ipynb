{
 "cells": [
  {
   "cell_type": "markdown",
   "metadata": {},
   "source": [
    "# Problema"
   ]
  },
  {
   "cell_type": "markdown",
   "metadata": {},
   "source": [
    "Para el desarrollo de este proyecto se ha elegido el problema del vendedor viajero, ya que de esta manera se podrá  hacer un análisis que compare los algoritmos probabilísticos genético y Simulated Annealing y así determinar cuál de estos se ejecuta más rapidamente y poder averiguar cuál de las soluciones es la de mayor calidad. Para esto se utilizarán 17 localidades de nuestro país y se explicará la configuración de los parámetros para cada algoritmo.\n",
    "\n",
    "El hardware se ha considerado de los principales limitantes de este proyecto, puesto que de este depende la cantidad de pruebas que se pueden hacer en un tiempo dterminado, ya que entre mayor sea la cantidad de pruebas se va a requerir una mayor capacidad de almacenamiento y velocidad en el procesado."
   ]
  },
  {
   "cell_type": "markdown",
   "metadata": {},
   "source": [
    "# Hipótesis"
   ]
  },
  {
   "cell_type": "markdown",
   "metadata": {},
   "source": [
    "Se espera que en terminos de calidad de la solucion el Algoritmo Genético sea mejor ya que aumenta la presición de esta ya que guarda otras posibles soluciones muy similares, no obstante esto último sacrifica valioso tiempo por lo que se espera que el Algoritmo de Simulated Annealing sea superior en términos de velocidad."
   ]
  },
  {
   "cell_type": "markdown",
   "metadata": {},
   "source": [
    "# Metodología"
   ]
  },
  {
   "cell_type": "markdown",
   "metadata": {},
   "source": [
    "Para poder hacer la comparación entre ambos algoritmos se planea hacer inicialmente 3 pruebas para cada algoritmo, cambiando únicamente los parámetros de entrada. Se empezará con parámetros altos, posteriormente con parámetros medios y por último bajos. Después de esto se procederá a hacer combinaciones entre estos y así hacer un experimento con una entrada promedio para determinar la eficiencia en términos regulares entre estos dos algoritmos. Los resultados serán puestos en tablas que permitirán una mejor comprensión de los datos para así hacer la comparación con mayor facilidad. Lo que se tomará en cuenta para esta comparación será el tiempo de ejecución y los costos generados según los parámetros dados.\n",
    "\n",
    "En esta investigación contamos con 2 archivos para realizar pruebas, ambos ubicados en la carpeta 'datos'. El primer archivo es un archivo de ejemplo, que se puede utilizar para realizar pruebas pequeñas y resolver el problema a \"fuerza bruta\". En este caso utilizamos solamente el archivo con las 17 localidades. La razón detrás de esto se debe a que al ser el primero un archivo muy pequeño, variar los parámetros realmente no genera soluciones diferentes, entonces se decidió que era innecesario realizar múltiples pruebas en este archivo si al final, los parámetros no iban a reflejar cambios en el problema real, que es resolver el problema del vendedor viajero con 17 localidades de Costa Rica.\n",
    "\n",
    "Para la reproducción de estos experimentos, es necesario saber que los parámetros variarán según el problema, ya que estos algoritmos, tanto el algoritmo genético y simulated annealing, dependen de la configuración de los parámetros. Las pruebas aquí realizadas pretenden mostrar un acercamiento a la mejor solución, no obstante, no significa que solo estas configuraciones produzcan buenos resultados, el truco en este tipo de algoritmos es ir cambiando las variables e ir experimentando.\n"
   ]
  },
  {
   "cell_type": "markdown",
   "metadata": {},
   "source": [
    "## Descripcion de pruebas"
   ]
  },
  {
   "cell_type": "markdown",
   "metadata": {},
   "source": [
    "En todos las pruebas se tendrá 20 repeticiones para el ciclo exterior, ya que no es necesario aumentar este parámetro, porque el comportamiento de los resultados será similar. Este iterador puede ser más grande o más pequeño, eso dependerá de la cantidad de muestras que se quieran analizar.\n",
    "\n",
    "Los algoritmos que vamos a usar en estas pruebas son:\n"
   ]
  },
  {
   "cell_type": "code",
   "execution_count": null,
   "metadata": {},
   "outputs": [],
   "source": [
    "def simulated_annealing():\n",
    "    \n",
    "    temperatura = 1e41\n",
    "    tasa_enfriamiento = 0.999888\n",
    "    \n",
    "    archivo = open('resultados.txt', 'a')\n",
    "    archivo.write(\"\\n\\n\"+\"Parámetros combinados 3 simulated annealing(temperatura = \"+str(temperatura)+\", tasa_enfriamiento = \"+str(tasa_enfriamiento)+\")\")\n",
    "    archivo.close()\n",
    "\n",
    "    inicio_total = time.perf_counter()\n",
    "    \n",
    "    for i in range(0,20):\n",
    "        inicio = time.perf_counter()\n",
    "        dominio = DominioTSP('datos/ciudades_cr.csv', 'Liberia')\n",
    "        sol = optimizar_sa(dominio, temperatura, tasa_enfriamiento)\n",
    "        final = time.perf_counter()\n",
    "        tiempo = final-inicio\n",
    "        print(tiempo)\n",
    "        print(\"Iteración:\",i,\"Recorrido:\", DominioTSP.texto(dominio, sol), \"Costo:\", DominioTSP.fcosto(dominio, sol))\n",
    "\n",
    "        archivo = open('resultados.txt', 'a')\n",
    "        archivo.write(\"\\n\"+\"Iteración: \"+str(i)+\" Tiempo: \"+str(tiempo)+\" Costo:\"+str(DominioTSP.fcosto(dominio, sol))+\" Recorrido: \"+ str(DominioTSP.texto(dominio, sol)))\n",
    "        archivo.close()\n",
    "\n",
    "    final_total = time.perf_counter()\n",
    "    duracion_total = final_total-inicio_total\n",
    "    \n",
    "    print(duracion_total)\n",
    "\n",
    "    return 0\n",
    "\n",
    "def algoritmo_genetico():\n",
    "\n",
    "    tam_pobl = 1000\n",
    "    porc_elite = 0.5\n",
    "    prob_mut = 0.9\n",
    "    reps = 10000\n",
    "    \n",
    "    archivo = open('resultados.txt', 'a')\n",
    "    archivo.write(\"\\n\\n\"+\"Parámetros combinados 3 algoritmo genético(tam_pobl = \"+str(tam_pobl)+\", porc_elite = \"+str(porc_elite)+\", prob_mut = \"+str(prob_mut)+\", reps = \"+str(reps)+\")\")\n",
    "    archivo.close()\n",
    "\n",
    "    inicio_total = time.perf_counter()\n",
    "\n",
    "    for i in range(0,20):\n",
    "        inicio = time.perf_counter()\n",
    "        dominio = DominioAGTSP('datos/ciudades_cr.csv', 'Liberia')\n",
    "        sol = optimizar_ag(dominio, tam_pobl, porc_elite, prob_mut, reps)\n",
    "        final = time.perf_counter()\n",
    "        tiempo = final-inicio\n",
    "        print(tiempo)\n",
    "        print(\"Iteración:\",i,\"Recorrido:\", DominioAGTSP.texto(dominio, sol), \"Costo:\", DominioAGTSP.fcosto(dominio, sol))\n",
    "\n",
    "        archivo = open('resultados.txt', 'a')\n",
    "        archivo.write(\"\\n\"+\"Iteración: \"+str(i)+\" Tiempo: \"+str(tiempo)+\" Costo:\"+str(DominioAGTSP.fcosto(dominio, sol))+\" Recorrido: \"+ str(DominioAGTSP.texto(dominio, sol)))\n",
    "        archivo.close()\n",
    "\n",
    "    \n",
    "    final_total = time.perf_counter()\n",
    "    duracion_total = final_total-inicio_total\n",
    "\n",
    "    print(duracion_total)\n",
    "    return 0"
   ]
  },
  {
   "cell_type": "markdown",
   "metadata": {},
   "source": [
    "El código mostrado anteriormente nos permitirá probar los algoritmos y guardar los resultados.\n",
    "En esta investigación, como se aclaró al principio, nos interesa compararlos y una de las mejores formas para comparar el desempeño de cierto algoritmo es su tiempo de ejecución.\n",
    "\n",
    "Por esta misma razón, se usa la libreria \"time\". En ambos algoritmos se calcula el tiempo de ejecución de la solución y de la iteración completa, para poder realizar un análisis más detallado.\n",
    "\n",
    "Ejecutar estas funciones producirán datos para realizar la comparación. Estos datos se almacenan en un archivo txt, incluyendo la siguiente información: \n",
    "1. Iteración actual\n",
    "2. Tiempo de ejecución\n",
    "3. Costo de la solución\n",
    "4. Recorrido de la solución\n",
    "\n",
    "Estos datos se utilizarán luego en el análisis de resultados para comparar ambos algoritmos."
   ]
  },
  {
   "cell_type": "markdown",
   "metadata": {},
   "source": [
    "### Nota:"
   ]
  },
  {
   "cell_type": "markdown",
   "metadata": {},
   "source": [
    "Debido a que las pruebas se realizarán en dos distintos algoritmos con distintas variables los parámetros que manejaremos son distintos para cada algoritmo. \n",
    "Las variables del algoritmo simulated_annealing que se alteran son:\n",
    "\n",
    "#### temperatura\n",
    "#### tasa_enfriamiento\n",
    "\n",
    "\n",
    "Las variables del algoritmo algoritmo_genetico que se alteran son:\n",
    "\n",
    "#### tam_pobl                                  \n",
    "#### porc_elite                 \n",
    "#### prob_mut                      \n",
    "#### reps\n",
    "\n",
    "Estas variables se deben cambiar cada vez que se vaya a realizar una de las pruebas, para poder almacenar la información correctamente. Si se desea hacer pruebas con parámetros diferentes a los descritos a continuación, estos son los elementos a editar."
   ]
  },
  {
   "cell_type": "markdown",
   "metadata": {},
   "source": [
    "### Parámetros"
   ]
  },
  {
   "cell_type": "markdown",
   "metadata": {},
   "source": [
    "#### Parámetros altos"
   ]
  },
  {
   "cell_type": "markdown",
   "metadata": {},
   "source": [
    "Para el algoritmo_genetico se usan de parámetros:\n",
    "\n",
    "tam_pobl = 1000                \n",
    "porc_elite = 0.9                 \n",
    "prob_mut = 0.9                                                  \n",
    "reps = 5000                                                      \n",
    "\n",
    "Para el algoritmo simulated_annealing se usan de parámetros:\n",
    "\n",
    "temperatura = 10e32                                    \n",
    "tasa_enfriamiento = 0.999                 \n",
    "\n"
   ]
  },
  {
   "cell_type": "markdown",
   "metadata": {},
   "source": [
    "#### Parámetros medios"
   ]
  },
  {
   "cell_type": "markdown",
   "metadata": {},
   "source": [
    "Para el algoritmo_genetico se usan de parámetros:\n",
    "\n",
    "tam_pobl = 500                \n",
    "porc_elite = 0.5                 \n",
    "prob_mut = 0.5                                         \n",
    "reps = 2500                                                          \n",
    "\n",
    "Para el algoritmo simulated_annealing se usan de parámetros:\n",
    "\n",
    "temperatura = 5e32                                    \n",
    "tasa_enfriamiento = 0.5             \n",
    "\n"
   ]
  },
  {
   "cell_type": "markdown",
   "metadata": {},
   "source": [
    "#### Parámetros bajos"
   ]
  },
  {
   "cell_type": "markdown",
   "metadata": {},
   "source": [
    "Para el algoritmo_genetico se usan de parámetros:\n",
    "\n",
    "tam_pobl = 200                \n",
    "porc_elite = 0.5                 \n",
    "prob_mut = 0.1                           \n",
    "reps = 1000                                    \n",
    "\n",
    "Para el algoritmo simulated_annealing se usan de parámetros:\n",
    "\n",
    "temperatura = 1e6                                    \n",
    "tasa_enfriamiento = 0.111              \n",
    "\n"
   ]
  },
  {
   "cell_type": "markdown",
   "metadata": {},
   "source": [
    "### Combinación"
   ]
  },
  {
   "cell_type": "markdown",
   "metadata": {},
   "source": [
    "Como se especificó anteriormente se procederá a hacer combinaciones entre estos para determinar la eficiencia en términos regulares entre estos dos algoritmos; con diferentes parámetros. \n",
    "Para ser específico se procederán a realizar tres combinaciones con distintos parámetros, estos son:"
   ]
  },
  {
   "cell_type": "markdown",
   "metadata": {},
   "source": [
    "#### Combinación 1"
   ]
  },
  {
   "cell_type": "markdown",
   "metadata": {},
   "source": [
    "Para el algoritmo_genetico se usan de parámetros:\n",
    "\n",
    "tam_pobl = 1000                \n",
    "porc_elite = 0.5                 \n",
    "prob_mut = 0.5                           \n",
    "reps = 5000                                    \n",
    "\n",
    "Para el algoritmo simulated_annealing se usan de parámetros:\n",
    "\n",
    "temperatura = 10e32                                    \n",
    "tasa_enfriamiento = 0.999              \n",
    "\n"
   ]
  },
  {
   "cell_type": "markdown",
   "metadata": {},
   "source": [
    "#### Combinación 2"
   ]
  },
  {
   "cell_type": "markdown",
   "metadata": {},
   "source": [
    "Para el algoritmo_genetico se usan de parámetros:\n",
    "\n",
    "tam_pobl = 1000                \n",
    "porc_elite = 0.5                 \n",
    "prob_mut = 0.9                           \n",
    "reps = 5000                                    \n",
    "\n",
    "Para el algoritmo simulated_annealing se usan de parámetros:\n",
    "\n",
    "temperatura = 1e45                                    \n",
    "tasa_enfriamiento = 0.999              \n",
    "\n"
   ]
  },
  {
   "cell_type": "markdown",
   "metadata": {},
   "source": [
    "#### Combinación 3 "
   ]
  },
  {
   "cell_type": "markdown",
   "metadata": {},
   "source": [
    "Para el algoritmo_genetico se usan de parámetros:\n",
    "\n",
    "tam_pobl = 1000                \n",
    "porc_elite = 0.5                 \n",
    "prob_mut = 0.9                           \n",
    "reps = 10000                                    \n",
    "\n",
    "Para el algoritmo simulated_annealing se usan de parámetros:\n",
    "\n",
    "temperatura = 10e32                                    \n",
    "tasa_enfriamiento = 0.999888              \n",
    "\n"
   ]
  },
  {
   "cell_type": "markdown",
   "metadata": {},
   "source": [
    "### Especificación de equipo para las pruebas"
   ]
  },
  {
   "cell_type": "markdown",
   "metadata": {},
   "source": [
    "Python 3\n",
    "Visual Studio Code\n",
    "Ubuntu 18.04.4 LTS 64 bits\n",
    "Memoria Ram: 16 GB\n",
    "Procesador: AMD Ryzen™ 2600 CPU @ 3.6GHz × 6"
   ]
  },
  {
   "cell_type": "code",
   "execution_count": null,
   "metadata": {},
   "outputs": [],
   "source": []
  },
  {
   "cell_type": "markdown",
   "metadata": {},
   "source": [
    "# Conclusión"
   ]
  },
  {
   "cell_type": "markdown",
   "metadata": {},
   "source": [
    "Con la ayuda de esta exhaustiva investigación se ha llegado a una conclusión bastante similar a la de la hipótesis que se planteó al inicio de la misma, puesto que se demostró que en términos de rapidez el algoritmo de Simulated Annealing es mejor elección que el algoritmo Genético ya que utilizando los parámetros bajos y en las combinaciones, este tiende a tener un comportamiento más eficiente tomando en cuenta la relación duración-costo. A si mismo como se supuso desde la hipótesis el algoritmo Genético tiende a tener mejores resultados con forme los parámetros sean más altos, esto puesto que con su estilo de cruces dados por selección natural la solución se hace cada vez más precisa.\n",
    "Por estas razones es que se ha concluido que los parámetros más óptimos para realizar este ejercico serían los siguientes:\n",
    "\n",
    "#### Algoritmos genéticos:\n",
    "- Un tamaño de población de 1000\n",
    "- Un porcentaje de élite del 0.5\n",
    "- Una probabilidad de mutar del 0.9\n",
    "- 5000 repeticiones\n",
    "\n",
    "La razón detrás de estos parámetros es la mencionada anteriormente. Al realizar más repeticiones y tener un tamaño de población más grande, el algoritmo realizar más su proceso y consigue mejores soluciones, por lo que es recomendado que estos sean valores altos.\n",
    "\n",
    "#### Simulated annealing:\n",
    "- Temperatura: 10e32\n",
    "- Tasa de enfriamiento: 0.999989\n",
    "\n",
    "El por qué de esto, se debe a que a temperaturas altas el algoritmo se comporta mejor y otorga una mejor solución. Esto lo descubrimos realizando las pruebas, ya que cada vez que se aumentaba más y más la temperatura, los resultados mejoraban. Otro de los factores a notar es que entre más cerca de 1 esté la tasa de enfriamiento, también se consiguen mejores soluciones."
   ]
  },
  {
   "cell_type": "code",
   "execution_count": null,
   "metadata": {},
   "outputs": [],
   "source": []
  }
 ],
 "metadata": {
  "kernelspec": {
   "display_name": "Python 3",
   "language": "python",
   "name": "python3"
  },
  "language_info": {
   "codemirror_mode": {
    "name": "ipython",
    "version": 3
   },
   "file_extension": ".py",
   "mimetype": "text/x-python",
   "name": "python",
   "nbconvert_exporter": "python",
   "pygments_lexer": "ipython3",
   "version": "3.8.5"
  }
 },
 "nbformat": 4,
 "nbformat_minor": 4
}
