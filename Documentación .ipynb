{
 "cells": [
  {
   "cell_type": "markdown",
   "metadata": {},
   "source": [
    "# Problema"
   ]
  },
  {
   "cell_type": "markdown",
   "metadata": {},
   "source": [
    "Para el desarrollo de este proyecto se ha elegido el problema del vendedor viajero, ya que de esta manera se podra  hacer un análisis que compare los algoritmos probabilísticos genético y Simulated Annealing y de esta manera determinar cual de estos se ejecuta más rapidamente y cual dtmabiem poder haberiguar cual de las soluciones es la de mayor calidad. Para esto se utilizaran 17 localidades de nuestro país y se debera explicar la configuracion de los parametros para cada algoritmo.\n",
    "\n",
    "El hardware se ha considerado de los principales limitantes de este proyecto, puesto que de este depende la cantidad de pruebas que se pueden hacer en un tiempo dterminado, ya que entre mayor sea la cantidad de pruebas se va a requerir una mayor capacidad de almacenamiento y velocidad en el procesado."
   ]
  },
  {
   "cell_type": "markdown",
   "metadata": {},
   "source": [
    "# Hipótesis"
   ]
  },
  {
   "cell_type": "markdown",
   "metadata": {},
   "source": [
    "Se espera que en terminos de calidad de la solucion el Algoritmo Genetico sea mejor ya que aumenta la presicion de esta ya que guarda otras posibles soluciones muy similares, no obstante esto ultimo sacrifica valioso tiempo por lo que se espera que el Algoritmo de Simulated Annealing es superior en terminos de velocidad."
   ]
  },
  {
   "cell_type": "markdown",
   "metadata": {},
   "source": [
    "# Metodología"
   ]
  },
  {
   "cell_type": "markdown",
   "metadata": {},
   "source": [
    "Para poder hacer la comparacion entre ambos algoritmos se planea hacer inicialmente 3 pruebas para cada algoritmo, cambiando unicamente los parametros de entrada, primeramente con parametros altos posteriormente con parametros medios y por ultimo con parametros bajos, luego se procedera a hacer combinaciones entre estos y asi hacer un experimento con una entrada promedio para determinar la eficiencia en terminos regiulares entre estos dos algoritmos. Los resultados seran puestos en entablas que permitiran una mejor comprension de los datos para asi hacer la comparacion con mayor facilidad."
   ]
  },
  {
   "cell_type": "markdown",
   "metadata": {},
   "source": [
    "### Especificación de equipo para las pruebas"
   ]
  },
  {
   "cell_type": "markdown",
   "metadata": {},
   "source": [
    "Python 3\n",
    "Visual Studio Code\n",
    "Ubuntu 18.04.4 LTS 64 bits\n",
    "Memoria Ram: 16 GB\n",
    "Procesador: AMD Ryzen™ 3200G CPU @ 3.6GHz × 4"
   ]
  }
 ],
 "metadata": {
  "kernelspec": {
   "display_name": "Python 3",
   "language": "python",
   "name": "python3"
  },
  "language_info": {
   "codemirror_mode": {
    "name": "ipython",
    "version": 3
   },
   "file_extension": ".py",
   "mimetype": "text/x-python",
   "name": "python",
   "nbconvert_exporter": "python",
   "pygments_lexer": "ipython3",
   "version": "3.7.5"
  }
 },
 "nbformat": 4,
 "nbformat_minor": 4
}
