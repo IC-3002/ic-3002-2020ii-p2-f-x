{
 "cells": [
  {
   "cell_type": "markdown",
   "metadata": {},
   "source": [
    "# Problema"
   ]
  },
  {
   "cell_type": "markdown",
   "metadata": {},
   "source": [
    "Para el desarrollo de este proyecto se ha elegido el problema del vendedor viajero, ya que de esta manera se podra  hacer un análisis que compare los algoritmos probabilísticos genético y Simulated Annealing y de esta manera determinar cual de estos se ejecuta más rapidamente y cual dtmabiem poder haberiguar cual de las soluciones es la de mayor calidad. Para esto se utilizaran 15 localidades de nuestro país y se debera explicar la configuracion de los parametros para cada algoritmo."
   ]
  },
  {
   "cell_type": "markdown",
   "metadata": {},
   "source": [
    "# Delimitaicones"
   ]
  },
  {
   "cell_type": "markdown",
   "metadata": {},
   "source": [
    "El hardeware se ha considerado de los principales limitantes de este proyecto, puesto que de este depende la cantidad de pruebas que se pueden hacer en un tiempo dterminado, ya que entre mayor sea la cantidad de pruebas se va a requerir una mayor capacidad de almacenamiento y velocidad en el procesado."
   ]
  },
  {
   "cell_type": "markdown",
   "metadata": {},
   "source": [
    "# Hipótesis"
   ]
  },
  {
   "cell_type": "markdown",
   "metadata": {},
   "source": [
    "Se espera que en terminos de calidad de la solucion el Algoritmo Genetico sea mejor ya que aumenta la presicion de esta ya que guarda otras posibles soluciones muy similares, no obstante esto ultimo sacrifica valioso tiempo por lo que se espera que el Algoritmo de Simulated Annealing es superior en terminos de velocidad."
   ]
  }
 ],
 "metadata": {
  "kernelspec": {
   "display_name": "Python 3",
   "language": "python",
   "name": "python3"
  },
  "language_info": {
   "codemirror_mode": {
    "name": "ipython",
    "version": 3
   },
   "file_extension": ".py",
   "mimetype": "text/x-python",
   "name": "python",
   "nbconvert_exporter": "python",
   "pygments_lexer": "ipython3",
   "version": "3.7.5"
  }
 },
 "nbformat": 4,
 "nbformat_minor": 4
}
