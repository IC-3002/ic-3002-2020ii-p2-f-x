{
 "cells": [
  {
   "cell_type": "markdown",
   "metadata": {},
   "source": [
    "# Problema"
   ]
  },
  {
   "cell_type": "markdown",
   "metadata": {},
   "source": [
    "Para el desarrollo de este proyecto se ha elegido el problema del vendedor viajero, ya que de esta manera se podra  hacer un análisis que compare los algoritmos probabilísticos genético y Simulated Annealing y de esta manera determinar cual de estos se ejecuta más rapidamente y cual dtmabiem poder haberiguar cual de las soluciones es la de mayor calidad. Para esto se utilizaran 17 localidades de nuestro país y se debera explicar la configuracion de los parametros para cada algoritmo.\n",
    "\n",
    "El hardware se ha considerado de los principales limitantes de este proyecto, puesto que de este depende la cantidad de pruebas que se pueden hacer en un tiempo dterminado, ya que entre mayor sea la cantidad de pruebas se va a requerir una mayor capacidad de almacenamiento y velocidad en el procesado."
   ]
  },
  {
   "cell_type": "markdown",
   "metadata": {},
   "source": [
    "# Hipótesis"
   ]
  },
  {
   "cell_type": "markdown",
   "metadata": {},
   "source": [
    "Se espera que en terminos de calidad de la solucion el Algoritmo Genetico sea mejor ya que aumenta la presicion de esta ya que guarda otras posibles soluciones muy similares, no obstante esto ultimo sacrifica valioso tiempo por lo que se espera que el Algoritmo de Simulated Annealing es superior en terminos de velocidad."
   ]
  },
  {
   "cell_type": "markdown",
   "metadata": {},
   "source": [
    "# Metodología"
   ]
  },
  {
   "cell_type": "markdown",
   "metadata": {},
   "source": [
    "Para poder hacer la comparación entre ambos algoritmos se planea hacer inicialmente 3 pruebas para cada algoritmo, cambiando únicamente los parámetros de entrada, primeramente con parámetros altos posteriormente con parámetros medios y por último con parámetros bajos, luego se procedera a hacer combinaciones entre estos y así hacer un experimento con una entrada promedio para determinar la eficiencia en terminos regulares entre estos dos algoritmos. Los resultados serán puestos en tablas que permitirán una mejor comprensión de los datos para así hacer la comparación con mayor facilidad. Lo que se tomará en cuenta para esta comparación será el tiempo de ejecución y los costos generados según los parámetros dados.\n",
    "\n",
    "En esta investigación contamos con 2 archivos para realizar pruebas, ambos ubicados en la carpeta 'datos'. El primer archivo es un archivo de ejemplo, que se puede utilizar para realizar pruebas pequeñas y resolver el problema a \"fuerza bruta\". En este caso utilizamos solamente al archivo con las 17 localidades. La razón detrás de esto se debe a que al ser el primero un archivo muy pequeño, variar los parámetros realmente no generaba soluciones diferentes, entonces se decidió que era innecesario realizar múltiples pruebas en este archivo si al final, los parámetros no iban a reflejar cambios en el problema real, que es resolver el problema del vendedor viajero con 17 localidades de Costa Rica.\n",
    "\n",
    "Para la reproducción de estos experimentos, es necesario saber que los parámetros variarán según el problema, ya que estos algoritmos, tanto el algoritmo genético y simulated annealing, dependen de la configuración de los parámetros. \n"
   ]
  },
  {
   "cell_type": "markdown",
   "metadata": {},
   "source": [
    "## Descripcion de pruebas"
   ]
  },
  {
   "cell_type": "markdown",
   "metadata": {},
   "source": [
    "En todos las pruebas tendrán 20 repeticiones para el ciclo exterior, ya que no es necesario aumentar este parámetro, porque el comportamiento de los resultados es similar.\n",
    "\n",
    "Los algoritmos que vamos a usar en estas pruebas son:\n"
   ]
  },
  {
   "cell_type": "code",
   "execution_count": null,
   "metadata": {},
   "outputs": [],
   "source": [
    "def simulated_annealing():\n",
    "    \n",
    "    temperatura = 1e41\n",
    "    tasa_enfriamiento = 0.999888\n",
    "    \n",
    "    archivo = open('resultados.txt', 'a')\n",
    "    archivo.write(\"\\n\\n\"+\"Parámetros combinados 3 simulated annealing(temperatura = \"+str(temperatura)+\", tasa_enfriamiento = \"+str(tasa_enfriamiento)+\")\")\n",
    "    archivo.close()\n",
    "\n",
    "    inicio_total = time.perf_counter()\n",
    "    \n",
    "    for i in range(0,20):\n",
    "        inicio = time.perf_counter()\n",
    "        dominio = DominioTSP('datos/ciudades_cr.csv', 'Liberia')\n",
    "        sol = optimizar_sa(dominio, temperatura, tasa_enfriamiento)\n",
    "        final = time.perf_counter()\n",
    "        tiempo = final-inicio\n",
    "        print(tiempo)\n",
    "        print(\"Iteración:\",i,\"Recorrido:\", DominioTSP.texto(dominio, sol), \"Costo:\", DominioTSP.fcosto(dominio, sol))\n",
    "\n",
    "        archivo = open('resultados.txt', 'a')\n",
    "        archivo.write(\"\\n\"+\"Iteración: \"+str(i)+\" Tiempo: \"+str(tiempo)+\" Costo:\"+str(DominioTSP.fcosto(dominio, sol))+\" Recorrido: \"+ str(DominioTSP.texto(dominio, sol)))\n",
    "        archivo.close()\n",
    "\n",
    "    final_total = time.perf_counter()\n",
    "    duracion_total = final_total-inicio_total\n",
    "    \n",
    "    print(duracion_total)\n",
    "\n",
    "    return 0\n",
    "\n",
    "def algoritmo_genetico():\n",
    "\n",
    "    tam_pobl = 1000\n",
    "    porc_elite = 0.5\n",
    "    prob_mut = 0.9\n",
    "    reps = 10000\n",
    "    \n",
    "    archivo = open('resultados.txt', 'a')\n",
    "    archivo.write(\"\\n\\n\"+\"Parámetros combinados 3 algoritmo genético(tam_pobl = \"+str(tam_pobl)+\", porc_elite = \"+str(porc_elite)+\", prob_mut = \"+str(prob_mut)+\", reps = \"+str(reps)+\")\")\n",
    "    archivo.close()\n",
    "\n",
    "    inicio_total = time.perf_counter()\n",
    "\n",
    "    for i in range(0,20):\n",
    "        inicio = time.perf_counter()\n",
    "        dominio = DominioAGTSP('datos/ciudades_cr.csv', 'Liberia')\n",
    "        sol = optimizar_ag(dominio, tam_pobl, porc_elite, prob_mut, reps)\n",
    "        final = time.perf_counter()\n",
    "        tiempo = final-inicio\n",
    "        print(tiempo)\n",
    "        print(\"Iteración:\",i,\"Recorrido:\", DominioAGTSP.texto(dominio, sol), \"Costo:\", DominioAGTSP.fcosto(dominio, sol))\n",
    "\n",
    "        archivo = open('resultados.txt', 'a')\n",
    "        archivo.write(\"\\n\"+\"Iteración: \"+str(i)+\" Tiempo: \"+str(tiempo)+\" Costo:\"+str(DominioAGTSP.fcosto(dominio, sol))+\" Recorrido: \"+ str(DominioAGTSP.texto(dominio, sol)))\n",
    "        archivo.close()\n",
    "\n",
    "    \n",
    "    final_total = time.perf_counter()\n",
    "    duracion_total = final_total-inicio_total\n",
    "\n",
    "    print(duracion_total)\n",
    "    return 0"
   ]
  },
  {
   "cell_type": "markdown",
   "metadata": {},
   "source": [
    "#### Nota:"
   ]
  },
  {
   "cell_type": "markdown",
   "metadata": {},
   "source": [
    "Debido a que las pruebas se realizaran en dos distintos algoritmos con distintas variables los parametros que manejaremos son distintos para cada algoritmo. \n",
    "Las variables del algoritmo simulated_annealing que se alteran son:\n",
    "\n",
    "temperatura         \n",
    "tasa_enfriamiento  \n",
    "\n",
    "Las variables del algoritmo algoritmo_genetico que se alteran son:\n",
    "\n",
    "tam_pobl                                  \n",
    "porc_elite                 \n",
    "prob_mut                      \n",
    "reps                "
   ]
  },
  {
   "cell_type": "markdown",
   "metadata": {},
   "source": [
    "### Parametros"
   ]
  },
  {
   "cell_type": "markdown",
   "metadata": {},
   "source": [
    "#### Parámetros altos"
   ]
  },
  {
   "cell_type": "markdown",
   "metadata": {},
   "source": [
    "Para el algoritmo_genetico se usan de parametro:\n",
    "\n",
    "tam_pobl = 1000                \n",
    "porc_elite = 0.9                 \n",
    "prob_mut = 0.9                                                  \n",
    "reps = 5000                                                      \n",
    "\n",
    "Para el algoritmo simulated_annealing se usan de parametro:\n",
    "\n",
    "temperatura = 10e32                                    \n",
    "tasa_enfriamiento = 0.999                 \n",
    "\n"
   ]
  },
  {
   "cell_type": "markdown",
   "metadata": {},
   "source": [
    "#### Parámetros medios"
   ]
  },
  {
   "cell_type": "markdown",
   "metadata": {},
   "source": [
    "Para el algoritmo_genetico se usan de parametro:\n",
    "\n",
    "tam_pobl = 500                \n",
    "porc_elite = 0.5                 \n",
    "prob_mut = 0.5                                         \n",
    "reps = 2500                                                          \n",
    "\n",
    "Para el algoritmo simulated_annealing se usan de parametro:\n",
    "\n",
    "temperatura = 5e32                                    \n",
    "tasa_enfriamiento = 0.5             \n",
    "\n"
   ]
  },
  {
   "cell_type": "markdown",
   "metadata": {},
   "source": [
    "#### Parámetros bajos"
   ]
  },
  {
   "cell_type": "markdown",
   "metadata": {},
   "source": [
    "Para el algoritmo_genetico se usan de parametro:\n",
    "\n",
    "tam_pobl = 200                \n",
    "porc_elite = 0.5                 \n",
    "prob_mut = 0.1                           \n",
    "reps = 1000                                    \n",
    "\n",
    "Para el algoritmo simulated_annealing se usan de parametro:\n",
    "\n",
    "temperatura = 1e6                                    \n",
    "tasa_enfriamiento = 0.111              \n",
    "\n"
   ]
  },
  {
   "cell_type": "markdown",
   "metadata": {},
   "source": [
    "### Combinación"
   ]
  },
  {
   "cell_type": "markdown",
   "metadata": {},
   "source": [
    "Como se especifico anteriormente se procedera a hacer combinaciones entre estos para determinar la eficiencia en terminos regulares entre estos dos algoritmos; con diferentes parametros. \n",
    "Para ser especifico se procederan a realizar tres combinaciones con distintos parametro, estos son:"
   ]
  },
  {
   "cell_type": "markdown",
   "metadata": {},
   "source": [
    "#### Combinación 1"
   ]
  },
  {
   "cell_type": "markdown",
   "metadata": {},
   "source": [
    "Para el algoritmo_genetico se usan de parametro:\n",
    "\n",
    "tam_pobl = 1000                \n",
    "porc_elite = 0.5                 \n",
    "prob_mut = 0.5                           \n",
    "reps = 5000                                    \n",
    "\n",
    "Para el algoritmo simulated_annealing se usan de parametro:\n",
    "\n",
    "temperatura = 10e32                                    \n",
    "tasa_enfriamiento = 0.999              \n",
    "\n"
   ]
  },
  {
   "cell_type": "markdown",
   "metadata": {},
   "source": [
    "#### Combinación 2"
   ]
  },
  {
   "cell_type": "markdown",
   "metadata": {},
   "source": [
    "Para el algoritmo_genetico se usan de parametro:\n",
    "\n",
    "tam_pobl = 1000                \n",
    "porc_elite = 0.5                 \n",
    "prob_mut = 0.9                           \n",
    "reps = 5000                                    \n",
    "\n",
    "Para el algoritmo simulated_annealing se usan de parametro:\n",
    "\n",
    "temperatura = 1e45                                    \n",
    "tasa_enfriamiento = 0.999              \n",
    "\n"
   ]
  },
  {
   "cell_type": "markdown",
   "metadata": {},
   "source": [
    "#### Combinación 3 "
   ]
  },
  {
   "cell_type": "markdown",
   "metadata": {},
   "source": [
    "Para el algoritmo_genetico se usan de parametro:\n",
    "\n",
    "tam_pobl = 1000                \n",
    "porc_elite = 0.5                 \n",
    "prob_mut = 0.9                           \n",
    "reps = 10000                                    \n",
    "\n",
    "Para el algoritmo simulated_annealing se usan de parametro:\n",
    "\n",
    "temperatura = 10e32                                    \n",
    "tasa_enfriamiento = 0.999888              \n",
    "\n"
   ]
  },
  {
   "cell_type": "markdown",
   "metadata": {},
   "source": [
    "### Especificación de equipo para las pruebas"
   ]
  },
  {
   "cell_type": "markdown",
   "metadata": {},
   "source": [
    "Python 3\n",
    "Visual Studio Code\n",
    "Ubuntu 18.04.4 LTS 64 bits\n",
    "Memoria Ram: 16 GB\n",
    "Procesador: AMD Ryzen™ 2600 CPU @ 3.6GHz × 6"
   ]
  },
  {
   "cell_type": "code",
   "execution_count": null,
   "metadata": {},
   "outputs": [],
   "source": []
  },
  {
   "cell_type": "markdown",
   "metadata": {},
   "source": [
    "# Conclusión"
   ]
  },
  {
   "cell_type": "markdown",
   "metadata": {},
   "source": [
    "Con la ayuda de esta exhaustiva investigacion se ha llegado a una conclusion bastante similar a la de la hipotesis que se planteo al inicio de la misma, puesto que se demostró que en terminos de rapidez el algoritmo de Simulated Annealing es mejor eleccion que el algoritmo Genetico ya que couando los parametros bajos, y en las combinaciones, este tiende a tener un comportamiento mas eficiente tomando en cuenta la relación duración-costo. A si mismo como se supuso desde la hipotesis el algoritmo Genetico tiende a tener mejores resultados con forme los parametros sean mas altos, esto puesto que con su estilo de cruces dados por seleccion natural la solucion se hace cada vez mas precisa.\n",
    "Por estas razones es que se ha concluido que los parametros mas optimos para realizar este ejercico serian los siguientes:\n",
    "Algoritmos genéticos:\n",
    "Un tamaño de población de 1000\n",
    "Un porcentaje de élite del 0.5\n",
    "Una probabilidad de mutar del 0.9\n",
    "5000 repeticiones\n",
    "Simulated annealing:\n",
    "Temperatura: 10e32\n",
    "Tasa de enfriamiento: 0.999989"
   ]
  }
 ],
 "metadata": {
  "kernelspec": {
   "display_name": "Python 3",
   "language": "python",
   "name": "python3"
  },
  "language_info": {
   "codemirror_mode": {
    "name": "ipython",
    "version": 3
   },
   "file_extension": ".py",
   "mimetype": "text/x-python",
   "name": "python",
   "nbconvert_exporter": "python",
   "pygments_lexer": "ipython3",
   "version": "3.7.5"
  }
 },
 "nbformat": 4,
 "nbformat_minor": 4
}
